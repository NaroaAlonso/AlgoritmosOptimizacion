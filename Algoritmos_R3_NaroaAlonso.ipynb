{
 "cells": [
  {
   "cell_type": "markdown",
   "metadata": {},
   "source": [
    "# Algoritmos de optimización - Reto 3\n",
    "\n",
    "Nombre: Naroa Alonso Fernández<br>\n",
    "Github: <br>"
   ]
  },
  {
   "cell_type": "code",
   "execution_count": 2,
   "metadata": {},
   "outputs": [],
   "source": [
    "import math\n",
    "import matplotlib.pyplot as plt\n",
    "import numpy as np\n",
    "import random\n",
    "from sympy import symbols, sin, cos, exp\n",
    "from sympy.plotting import plot3d\n",
    "from itertools import permutations"
   ]
  },
  {
   "cell_type": "markdown",
   "metadata": {},
   "source": [
    "## Búsqueda Tabú aplicada al TSP\n",
    "La búsqueda tabú es una técnica de optimización heurística que evita caer en óptimos locales al mantener una memoria de soluciones exploradas recientemente.\n",
    "\n",
    "### 1. Definición de la Función Objetivo\n",
    "\n",
    "Esta función recibe una ruta (lista de ciudades en un orden específico) y devuelve la distancia total de la ruta considerando la matriz de distancias."
   ]
  },
  {
   "cell_type": "code",
   "execution_count": 3,
   "metadata": {},
   "outputs": [],
   "source": [
    "def calcular_ruta_total(ruta, matriz):\n",
    "    \"\"\" Calcula la distancia total de una ruta en base a la matriz de distancias. \"\"\"\n",
    "    total = sum(matriz[ruta[i]][ruta[i+1]] for i in range(len(ruta) - 1))\n",
    "    total += matriz[ruta[-1]][ruta[0]]  # Retorno al punto inicial\n",
    "    return total"
   ]
  },
  {
   "cell_type": "markdown",
   "metadata": {},
   "source": [
    "### 2. Generación de Vecinos\n",
    "Aquí generamos rutas vecinas a partir de una ruta actual. Se intercambian dos ciudades en cada iteración para explorar nuevas soluciones."
   ]
  },
  {
   "cell_type": "code",
   "execution_count": 4,
   "metadata": {},
   "outputs": [],
   "source": [
    "def generar_movimientos(ruta):\n",
    "    \"\"\" Genera rutas vecinas intercambiando dos ciudades. \"\"\"\n",
    "    vecinos = []\n",
    "    for i in range(len(ruta)):\n",
    "        for j in range(i + 1, len(ruta)):\n",
    "            nueva_ruta = ruta[:]\n",
    "            nueva_ruta[i], nueva_ruta[j] = nueva_ruta[j], nueva_ruta[i]  # Intercambio\n",
    "            vecinos.append(nueva_ruta)\n",
    "    return vecinos\n"
   ]
  },
  {
   "cell_type": "markdown",
   "metadata": {},
   "source": [
    "### 3. Implementación del Algoritmo de Búsqueda Tabú\n",
    "Este es el núcleo del algoritmo. Se parte de una ruta aleatoria y se exploran los vecinos intercambiando ciudades. Se usa una lista tabú para evitar ciclos repetitivos y mejorar la convergencia."
   ]
  },
  {
   "cell_type": "code",
   "execution_count": 14,
   "metadata": {},
   "outputs": [],
   "source": [
    "def algoritmo_busqueda_tabu(matriz, iteraciones=100, memoria_tabu=10):\n",
    "    \"\"\" Implementación del Algoritmo de Búsqueda Tabú para el TSP. \"\"\"\n",
    "    \n",
    "    num_ciudades = len(matriz)\n",
    "    ruta_actual = list(range(num_ciudades))  # Ruta inicial generada de forma aleatoria\n",
    "    random.shuffle(ruta_actual)  # Mezclamos las ciudades para comenzar con un camino aleatorio\n",
    "    mejor_ruta = ruta_actual[:]\n",
    "    mejor_distancia = calcular_ruta_total(mejor_ruta, matriz)\n",
    "    \n",
    "    lista_tabu = []  # Lista tabú para almacenar soluciones recientemente exploradas\n",
    "    \n",
    "    for _ in range(iteraciones):\n",
    "        vecinos = generar_movimientos(ruta_actual)  # Generamos movimientos vecinos (intercambio de ciudades)\n",
    "        mejor_candidato = None\n",
    "        mejor_distancia_candidato = float('inf')  # Inicializamos con infinito para encontrar la mejor solución\n",
    "        \n",
    "        # Búsqueda del mejor candidato entre los vecinos\n",
    "        for vecino in vecinos:\n",
    "            if vecino not in lista_tabu:  # Se evita explorar soluciones tabú\n",
    "                distancia = calcular_ruta_total(vecino, matriz)\n",
    "                if distancia < mejor_distancia_candidato:  # Se selecciona la mejor opción encontrada\n",
    "                    mejor_candidato = vecino\n",
    "                    mejor_distancia_candidato = distancia\n",
    "        \n",
    "        # Aplicación de la memoria tabú y actualización de la mejor ruta\n",
    "        if mejor_candidato is not None:\n",
    "            ruta_actual = mejor_candidato  # Se actualiza la ruta actual\n",
    "            if mejor_distancia_candidato < mejor_distancia:  # Se guarda la mejor solución global\n",
    "                mejor_ruta = mejor_candidato[:]\n",
    "                mejor_distancia = mejor_distancia_candidato\n",
    "            lista_tabu.append(mejor_candidato)  # Se agrega el nuevo candidato a la lista tabú\n",
    "            if len(lista_tabu) > memoria_tabu:\n",
    "                lista_tabu.pop(0)  # Se mantiene el tamaño de la memoria tabú limitado\n",
    "    \n",
    "    return mejor_ruta, mejor_distancia  # Se retorna la mejor solución encontrada\n"
   ]
  },
  {
   "cell_type": "markdown",
   "metadata": {},
   "source": [
    "# 4. Ejecución y resultados\n",
    "\n",
    "Aquí se define una matriz de distancias entre 4 ciudades y se ejecuta el algoritmo con 200 iteraciones y una memoria tabú de tamaño 5."
   ]
  },
  {
   "cell_type": "code",
   "execution_count": 15,
   "metadata": {},
   "outputs": [],
   "source": [
    "matriz_distancias = [\n",
    "    [0, 10, 15, 20],\n",
    "    [10, 0, 35, 25],\n",
    "    [15, 35, 0, 30],\n",
    "    [20, 25, 30, 0]\n",
    "]\n"
   ]
  },
  {
   "cell_type": "code",
   "execution_count": 16,
   "metadata": {},
   "outputs": [
    {
     "name": "stdout",
     "output_type": "stream",
     "text": [
      "Ruta óptima encontrada: [0, 2, 3, 1]\n",
      "Distancia de la mejor ruta: 80\n"
     ]
    }
   ],
   "source": [
    "mejor_ruta, mejor_distancia = algoritmo_busqueda_tabu(matriz_distancias, iteraciones=200, memoria_tabu=5)\n",
    "\n",
    "print(\"Ruta óptima encontrada:\", mejor_ruta)\n",
    "print(\"Distancia de la mejor ruta:\", mejor_distancia)\n"
   ]
  },
  {
   "cell_type": "code",
   "execution_count": null,
   "metadata": {},
   "outputs": [],
   "source": []
  }
 ],
 "metadata": {
  "kernelspec": {
   "display_name": ".venv",
   "language": "python",
   "name": "python3"
  },
  "language_info": {
   "codemirror_mode": {
    "name": "ipython",
    "version": 3
   },
   "file_extension": ".py",
   "mimetype": "text/x-python",
   "name": "python",
   "nbconvert_exporter": "python",
   "pygments_lexer": "ipython3",
   "version": "3.13.1"
  }
 },
 "nbformat": 4,
 "nbformat_minor": 2
}
