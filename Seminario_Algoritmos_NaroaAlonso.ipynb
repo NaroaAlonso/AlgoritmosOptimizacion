{
  "cells": [
    {
      "cell_type": "markdown",
      "metadata": {
        "id": "hVbXYX-RfPWh"
      },
      "source": [
        "# Algoritmos de optimización - Seminario<br>\n",
        "Nombre y Apellidos:  Naroa Alonso Fernández <br>\n",
        "Url:\n",
        "\n",
        "Problema:3\n",
        "\n",
        ">3. Combinar cifras y operaciones\n",
        "\n",
        "Descripción del problema:\n",
        "\n",
        "El problema consiste en analizar el siguiente problema y diseñar un algoritmo que lo resuelva.\n",
        "\n",
        "• Disponemos de las 9 cifras del 1 al 9 (excluimos el cero) y de los 4 signos básicos de las\n",
        "operaciones fundamentales: suma(+), resta(-), multiplicación(*) y división(/)\n",
        "\n",
        "• Debemos combinarlos alternativamente sin repetir ninguno de ellos para obtener una\n",
        "cantidad dada. Un ejemplo sería para obtener el 4:\n",
        "4+2-6/3x1 = 4\n",
        "\n",
        "Debe analizarse el problema para encontrar todos los valores enteros posibles planteando las\n",
        "siguientes cuestiones:\n",
        "\n",
        "- ¿Qué valor máximo y mínimo se pueden obtener según las condiciones del problema?\n",
        "\n",
        "- ¿Es posible encontrar todos los valores enteros posibles entre dicho mínimo y máximo ?\n",
        "\n",
        "(*) La respuesta es obligatoria\n",
        "\n",
        "\n",
        "\n",
        "\n",
        "\n",
        "                                        "
      ]
    },
    {
      "cell_type": "code",
      "execution_count": 16,
      "metadata": {
        "id": "wl4-G3rhYX3j"
      },
      "outputs": [],
      "source": [
        "import pandas as pd\n",
        "from math import factorial\n",
        "from itertools import permutations\n",
        "import random"
      ]
    },
    {
      "cell_type": "markdown",
      "metadata": {
        "id": "iAex0YxEYX3l"
      },
      "source": [
        "### Cálculo del valor mínimo y máximo alcanzable\n",
        "\n",
        "Para determinar los valores extremos obtenibles bajo las condiciones del problema, generamos todas las combinaciones posibles de 5 números (del 1 al 9) y los 4 operadores (`+`, `-`, `*`, `/`) sin repetirlos. Para ello, utilizamos un algoritmo basado en Backtracking Iterativo, que nos permite explorar de manera eficiente todas las permutaciones posibles sin repetir elementos.\n",
        "\n",
        "#### Pasos del cálculo\n",
        "1. Generación de permutaciones de los dígitos:  \n",
        "   - Se seleccionan 5 de los 9 dígitos disponibles, asegurando que no se repitan.\n",
        "   - Se exploran todas las formas en que estos 5 dígitos pueden ordenarse.\n",
        "   \n",
        "2. Generación de permutaciones de los operadores:  \n",
        "   - Se seleccionan los 4 operadores disponibles sin repetirlos.\n",
        "   - Se consideran todas las posibles combinaciones de operadores en los espacios entre los dígitos.\n",
        "\n",
        "3. Construcción y evaluación de expresiones:  \n",
        "   - Cada combinación de 5 números y 4 operadores se convierte en una expresión matemática en el formato `N-O-N-O-N-O-N-O-N`.\n",
        "   - Se evalúa cada expresión y se almacenan únicamente los valores enteros.\n",
        "   - Se manejan excepciones para evitar divisiones por cero.\n",
        "\n",
        "#### Resultados obtenidos\n",
        "Tras procesar todas las combinaciones válidas:\n",
        "- Valor mínimo obtenido: -69\n",
        "- Valor máximo obtenido: 77\n",
        "\n",
        "Esto significa que cualquier número entero dentro de este rango puede ser generado mediante alguna combinación válida de dígitos y operadores. En el siguiente análisis, verificaremos si todos los valores enteros dentro de este intervalo pueden ser obtenidos sin omisiones.\n"
      ]
    },
    {
      "cell_type": "code",
      "execution_count": 17,
      "metadata": {
        "id": "AiskKkzZfy4e"
      },
      "outputs": [],
      "source": [
        "def generar_permutaciones_backtracking(lista, longitud):\n",
        "    \"\"\"\n",
        "    Genera permutaciones de 'longitud' elementos de la lista dada usando un enfoque de Backtracking iterativo.\n",
        "    \"\"\"\n",
        "    stack = [(0, [])]  # Pila para simular la recursion (posicion actual, lista construida hasta ahora)\n",
        "    resultado = []\n",
        "\n",
        "    while stack:\n",
        "        idx, current = stack.pop()\n",
        "\n",
        "        if len(current) == longitud:  # Si se alcanza la longitud deseada, se guarda la permutacion\n",
        "            resultado.append(current)\n",
        "            continue\n",
        "\n",
        "        for i in range(len(lista)):\n",
        "            if lista[i] not in current:  # Evitar repeticiones\n",
        "                stack.append((idx + 1, current + [lista[i]]))  # Agregar al stack para expandir\n",
        "\n",
        "    return resultado\n"
      ]
    },
    {
      "cell_type": "code",
      "execution_count": 18,
      "metadata": {
        "id": "GIRbpEI3YX3l"
      },
      "outputs": [],
      "source": [
        "# Generar todas las permutaciones posibles de los digitos (he seleccionado solo 5 para alternar)\n",
        "digitos = ['1', '2', '3', '4', '5', '6', '7', '8', '9']\n",
        "operadores = ['+', '-', '*', '/']\n",
        "\n",
        "permutaciones_digitos = generar_permutaciones_backtracking(digitos, 5)\n",
        "\n",
        "# Generar todas las combinaciones posibles de operadores sin repetirlos\n",
        "permutaciones_operadores = generar_permutaciones_backtracking(operadores, 4)\n",
        "\n",
        "resultados_enteros = set()"
      ]
    },
    {
      "cell_type": "code",
      "execution_count": 19,
      "metadata": {
        "id": "JCv7Zj5hYX3l"
      },
      "outputs": [],
      "source": [
        "# Probar todas las combinaciones de numeros y operadores\n",
        "for nums in permutaciones_digitos:\n",
        "\n",
        "    for ops in permutaciones_operadores:\n",
        "\n",
        "        # Construir la expresion alternando numeros y operadores\n",
        "        expresion = f\"{nums[0]}{ops[0]}{nums[1]}{ops[1]}{nums[2]}{ops[2]}{nums[3]}{ops[3]}{nums[4]}\"\n",
        "\n",
        "        try:\n",
        "            resultado = eval(expresion)\n",
        "            if resultado%1==0:  # Solo los valores enteros\n",
        "                resultados_enteros.add(int(resultado))\n",
        "\n",
        "        except ZeroDivisionError:\n",
        "            continue"
      ]
    },
    {
      "cell_type": "code",
      "execution_count": 20,
      "metadata": {
        "colab": {
          "base_uri": "https://localhost:8080/",
          "height": 216
        },
        "id": "NyMiTI3PYX3m",
        "outputId": "dd8f2c01-8039-48ef-b9a2-b80f0fa8973b"
      },
      "outputs": [
        {
          "output_type": "error",
          "ename": "ValueError",
          "evalue": "min() arg is an empty sequence",
          "traceback": [
            "\u001b[0;31m---------------------------------------------------------------------------\u001b[0m",
            "\u001b[0;31mValueError\u001b[0m                                Traceback (most recent call last)",
            "\u001b[0;32m<ipython-input-20-72bdd5eda9a3>\u001b[0m in \u001b[0;36m<cell line: 0>\u001b[0;34m()\u001b[0m\n\u001b[1;32m      1\u001b[0m \u001b[0;31m# minimo y maximo valor encontrado\u001b[0m\u001b[0;34m\u001b[0m\u001b[0;34m\u001b[0m\u001b[0m\n\u001b[0;32m----> 2\u001b[0;31m \u001b[0mvalor_minimo\u001b[0m \u001b[0;34m=\u001b[0m \u001b[0mmin\u001b[0m\u001b[0;34m(\u001b[0m\u001b[0mresultados_enteros\u001b[0m\u001b[0;34m)\u001b[0m\u001b[0;34m\u001b[0m\u001b[0;34m\u001b[0m\u001b[0m\n\u001b[0m\u001b[1;32m      3\u001b[0m \u001b[0mvalor_maximo\u001b[0m \u001b[0;34m=\u001b[0m \u001b[0mmax\u001b[0m\u001b[0;34m(\u001b[0m\u001b[0mresultados_enteros\u001b[0m\u001b[0;34m)\u001b[0m\u001b[0;34m\u001b[0m\u001b[0;34m\u001b[0m\u001b[0m\n\u001b[1;32m      4\u001b[0m \u001b[0;34m\u001b[0m\u001b[0m\n\u001b[1;32m      5\u001b[0m df_valores_extremos = pd.DataFrame({\n",
            "\u001b[0;31mValueError\u001b[0m: min() arg is an empty sequence"
          ]
        }
      ],
      "source": [
        "# minimo y maximo valor encontrado\n",
        "valor_minimo = min(resultados_enteros)\n",
        "valor_maximo = max(resultados_enteros)\n",
        "\n",
        "df_valores_extremos = pd.DataFrame({\n",
        "    \"Valor Mínimo\": [valor_minimo],\n",
        "    \"Valor Máximo\": [valor_maximo]\n",
        "})\n",
        "\n",
        "df_valores_extremos"
      ]
    },
    {
      "cell_type": "markdown",
      "metadata": {
        "id": "t_XXbSeQYX3m"
      },
      "source": [
        "### ¿Es posible encontrar todos los valores enteros entre el mínimo y el máximo?\n",
        "\n",
        "Para verificar si se pueden obtener todos los valores enteros dentro del rango encontrado, he realizado los siguientes pasos:\n",
        "\n",
        "1. Definición del conjunto de valores esperados, que incluye todos los números enteros entre el valor mínimo -69 y el valor máximo 77.\n",
        "2. Comparación de los valores generados con el conjunto esperado para identificar si hay números que no pueden obtenerse con las combinaciones permitidas.\n",
        "3. Si el conjunto de valores obtenidos cubre completamente el intervalo, significa que es posible obtener todos los valores dentro del rango.\n",
        "\n",
        "#### Resultados obtenidos\n",
        "- Se han generado todas las combinaciones posibles dentro de las reglas establecidas.\n",
        "- No hay valores faltantes en el intervalo entre -69 y 77.\n",
        "- Por lo tanto, sí es posible obtener todos los valores enteros en este rango utilizando alguna combinación válida de dígitos y operadores.\n",
        "\n",
        "Este resultado confirma que el conjunto de reglas dadas en el problema permite cubrir de manera completa el intervalo de números enteros posibles, sin dejar huecos en la secuencia.\n"
      ]
    },
    {
      "cell_type": "code",
      "execution_count": null,
      "metadata": {
        "id": "J0bFdLsUYX3m"
      },
      "outputs": [],
      "source": [
        "# Crear un conjunto con todos los valores enteros en el rango encontrado\n",
        "valores_esperados = set(range(valor_minimo, valor_maximo + 1))\n",
        "\n",
        "# Comparar con los valores obtenidos\n",
        "valores_faltantes = valores_esperados - resultados_enteros"
      ]
    },
    {
      "cell_type": "code",
      "execution_count": null,
      "metadata": {
        "id": "zgbYeQ1gYX3m"
      },
      "outputs": [],
      "source": [
        "# Determinar si es posible encontrar todos los valores\n",
        "todos_presentes = len(valores_faltantes) == 0\n",
        "\n",
        "# Mostrar los resultados\n",
        "df_verificacion = pd.DataFrame({\n",
        "    \"Todos los valores están presentes\": [todos_presentes],\n",
        "    \"Cantidad de valores faltantes\": [len(valores_faltantes)],\n",
        "    \"Valores faltantes\": [sorted(valores_faltantes) if valores_faltantes else \"Ninguno\"]\n",
        "})\n",
        "\n",
        "print(df_verificacion)\n"
      ]
    },
    {
      "cell_type": "markdown",
      "metadata": {
        "id": "3_-exlrTgLd-"
      },
      "source": [
        "(*)¿Cuantas posibilidades hay sin tener en cuenta las restricciones?<br>\n",
        "\n",
        "\n",
        "\n",
        "¿Cuantas posibilidades hay teniendo en cuenta todas las restricciones?\n",
        "\n",
        "\n"
      ]
    },
    {
      "cell_type": "markdown",
      "metadata": {
        "id": "WfCUqJyKhPcw"
      },
      "source": [
        "Respuesta"
      ]
    },
    {
      "cell_type": "markdown",
      "metadata": {
        "id": "e1gTMaC7YX3n"
      },
      "source": [
        "### Cálculo de posibilidades con y sin restricciones\n",
        "\n",
        "En este análisis, primero he calculado todas las permutaciones posibles de los 9 dígitos sin restricciones, lo que da como resultado **9! = 362880**. Sin embargo, cuando he aplicado las restricciones del problema (usar solo 5 dígitos y alternar obligatoriamente con 4 operadores sin repetirlos), el número de combinaciones disminuye bastante.\n",
        "\n",
        "Para calcular las posibilidades con restricciones, he seguido estos pasos:\n",
        "1. He seleccionado 5 de los 9 dígitos y los he ordenado → \\( P(9,5) = 9!/(9-5)! \\).\n",
        "2. He seleccionado y ordenamos los 4 operadores disponibles → \\( 4! \\).\n",
        "3. He ajustado el cálculo dividiendo por **5!** ya que cada secuencia de 5 números y 4 operadores tiene una única estructura posible (N-O-N-O-N-O-N-O-N).\n",
        "\n",
        "El resultado final muestra que, bajo estas restricciones, el número de combinaciones posibles se reduce a **3024**.\n",
        "\n"
      ]
    },
    {
      "cell_type": "code",
      "execution_count": null,
      "metadata": {
        "id": "iq6Fe32MgpDX"
      },
      "outputs": [],
      "source": [
        "# Cálculo de posibilidades sin restricciones\n",
        "posibilidades_sin_restricciones = factorial(9)\n",
        "\n",
        "# Cálculo de posibilidades con restricciones\n",
        "num_permutaciones_digitos = factorial(9) // factorial(9 - 5)\n",
        "num_permutaciones_operadores = factorial(4)\n",
        "posibilidades_con_restricciones = (num_permutaciones_digitos * num_permutaciones_operadores) // factorial(5)\n",
        "\n",
        "df_posibilidades = pd.DataFrame({\n",
        "    \"Posibilidades sin restricciones\": [posibilidades_sin_restricciones],\n",
        "    \"Posibilidades con restricciones\": [posibilidades_con_restricciones]\n",
        "})\n",
        "\n",
        "df_posibilidades\n"
      ]
    },
    {
      "cell_type": "markdown",
      "metadata": {
        "id": "dzynfVJahHoY"
      },
      "source": [
        "Modelo para el espacio de soluciones<br>\n",
        "(*) ¿Cual es la estructura de datos que mejor se adapta al problema? Argumentalo.(Es posible que hayas elegido una al principio y veas la necesidad de cambiar, arguentalo)\n"
      ]
    },
    {
      "cell_type": "markdown",
      "metadata": {
        "id": "xFIJrOwKi2Ti"
      },
      "source": [
        "Respuesta"
      ]
    },
    {
      "cell_type": "markdown",
      "metadata": {
        "id": "wLsHmSeGYX3n"
      },
      "source": [
        "### Modelo para el espacio de soluciones\n",
        "\n",
        "Cuando empecé a plantear el problema, mi primera idea fue usar listas para almacenar todas las combinaciones de números y operadores. La idea era generar todas las permutaciones posibles y recorrerlas para evaluar cada expresión con eval(). No obstante, a medida que avanzaba en la implementación, me di cuenta de que no era la mejor opción.\n",
        "\n",
        "El principal problema de usar listas era que el número de combinaciones crecía muchísimo, y mantener todas en una estructura tan simple ocupaba mucha memoria. Además, como algunas expresiones daban el mismo resultado, al final había valores repetidos y tenía que recorrer la lista para ver si ya estaba almacenado, lo cual hacía el proceso mucho más lento y se me quedaba el código a veces colgado.\n",
        "\n",
        "Para solucionar esto, cambié las listas por conjuntos. Esto fue una gran mejora porque:\n",
        "- La búsqueda de elementos es mucho más rápida (no tengo que recorrer toda la lista, en un set es casi instantáneo).\n",
        "- No permite valores repetidos, así que si dos expresiones distintas daban el mismo número, el set se encargaba automáticamente de eliminar duplicados.\n",
        "- Reduce el uso de memoria, porque en lugar de guardar todas las combinaciones posibles, solo almacena los valores finales.\n"
      ]
    },
    {
      "cell_type": "markdown",
      "metadata": {
        "id": "7Z9U2W7bi-XS"
      },
      "source": [
        "Según el modelo para el espacio de soluciones<br>\n",
        "(*)¿Cual es la función objetivo?\n",
        "\n",
        "(*)¿Es un problema de maximización o minimización?"
      ]
    },
    {
      "cell_type": "markdown",
      "metadata": {
        "id": "y5_SnJVxYX3n"
      },
      "source": [
        "Respuesta"
      ]
    },
    {
      "cell_type": "markdown",
      "metadata": {
        "id": "NX7b_ryHYX3n"
      },
      "source": [
        "### Función Objetivo\n",
        "\n",
        "Dado que estamos en un problema de **optimización**, la función objetivo debe estar definida de manera que podamos **maximizar o minimizar un valor específico** dentro de nuestro espacio de soluciones.\n",
        "\n",
        "En este caso, el objetivo principal del problema es **encontrar la mayor cantidad posible de valores enteros distintos** dentro del rango obtenido bajo las restricciones dadas. Por lo tanto, podemos definir la función objetivo como:\n",
        "\n",
        "$$f(\\mathcal{S}) = |\\mathcal{S}|$$\n",
        "\n",
        "donde $$\\mathcal{S}$$ representa el conjunto de todos los resultados enteros que podemos obtener con las combinaciones permitidas, y $$|\\mathcal{S}|$$ es el tamaño de ese conjunto. En este caso, la meta es maximizar esta cantidad, es decir:\n",
        "\n",
        "$$max f(\\mathcal{S}) = \\max |\\mathcal{S}|$$\n",
        "\n",
        "Esto significa que el objetivo es generar tantos valores enteros como sea posible, explorando todas las combinaciones factibles y asegurándonos de no perder ninguna.\n",
        "\n"
      ]
    },
    {
      "cell_type": "markdown",
      "metadata": {
        "id": "rlnTYgY1j6I2"
      },
      "source": [
        "Diseña un algoritmo para resolver el problema por fuerza bruta"
      ]
    },
    {
      "cell_type": "markdown",
      "metadata": {
        "id": "70rDgxYXkC8r"
      },
      "source": [
        "Respuesta"
      ]
    },
    {
      "cell_type": "markdown",
      "metadata": {
        "id": "wIXGm7tsYX3n"
      },
      "source": [
        "### Algoritmo de Fuerza Bruta para el Problema\n",
        "\n",
        "El algoritmo de fuerza bruta busca **explorar todas las combinaciones posibles** de números y operadores para determinar los valores enteros que pueden generarse bajo las restricciones del problema.\n",
        "\n",
        "#### Pasos del Algoritmo\n",
        "1. Se generan todas las permutaciones posibles de los 5 dígitos** tomados del conjunto `{1,2,3,4,5,6,7,8,9}`, asegurando que no se repiten.\n",
        "\n",
        "2. Se generan todas las permutaciones posibles de los 4 operadores** (`+,-,*,/`) sin repetirlos.  \n",
        "\n",
        "3. Se construyen las expresiones combinando un número y un operador en cada paso** siguiendo la estructura `N-O-N-O-N-O-N-O-N`.\n",
        "\n",
        "4. Se evalua cada expresión y se almacenan solo los valores enteros**.  \n"
      ]
    },
    {
      "cell_type": "code",
      "execution_count": null,
      "metadata": {
        "id": "CJb5sQ0qkENy"
      },
      "outputs": [],
      "source": [
        "\n",
        "digitos = ['1', '2', '3', '4', '5', '6', '7', '8', '9']\n",
        "operadores = ['+', '-', '*', '/']\n",
        "resultados_enteros = set()\n",
        "\n",
        "# Generacion de todas las permutaciones posibles de los 5 digitos\n",
        "for perm_digitos in permutations(digitos, 5):\n",
        "\n",
        "    # Generacion de todas las permutaciones posibles de los 4 operadores\n",
        "    for perm_operadores in permutations(operadores, 4):\n",
        "\n",
        "        # Construccion de la expresión alternando números y operadores\n",
        "        expresion = f\"{perm_digitos[0]}{perm_operadores[0]}{perm_digitos[1]}{perm_operadores[1]}{perm_digitos[2]}{perm_operadores[2]}{perm_digitos[3]}{perm_operadores[3]}{perm_digitos[4]}\"\n",
        "\n",
        "        try:\n",
        "            resultado = eval(expresion)  # Evaluamos la expresión matemática\n",
        "            if type(resultado)==int:\n",
        "                resultados_enteros.add(int(resultado))\n",
        "        except ZeroDivisionError:\n",
        "            continue\n",
        "\n",
        "\n",
        "print(f\"Número de enteros obtenidos: {len(resultados_enteros)}\")\n",
        "print(f\"Valor mínimo: {min(resultados_enteros)}\")\n",
        "print(f\"Valor máximo: {max(resultados_enteros)}\")\n"
      ]
    },
    {
      "cell_type": "markdown",
      "metadata": {
        "id": "tgrnsC2nkFa8"
      },
      "source": [
        "Calcula la complejidad del algoritmo por fuerza bruta"
      ]
    },
    {
      "cell_type": "markdown",
      "metadata": {
        "id": "9eUd3xwckP68"
      },
      "source": [
        "Respuesta"
      ]
    },
    {
      "cell_type": "markdown",
      "metadata": {
        "id": "vud9FLkwYX3o"
      },
      "source": [
        "### Cálculo de la Complejidad del Algoritmo\n",
        "\n",
        "Para analizar la complejidad del algoritmo, se debe considerar el número total de combinaciones exploradas:\n",
        "\n",
        "1. Generación de permutaciones de los 5 dígitos:\n",
        "   - Se seleccionan 5 dígitos de un total de 9 y los ordenamos.  \n",
        "   - Esto corresponde a una permutación \\( P(9,5) \\), calculada como:\n",
        "\n",
        "   \n",
        "   $$P(9,5) = 9!/(9-5)!= 15,120\n",
        "   \n",
        "\n",
        "2. Generación de permutaciones de los 4 operadores:  \n",
        "   - Los 4 operadores (`+,-,*,/`) se seleccionan sin repetir y se ordenan.  \n",
        "   - Esto corresponde a una permutación de 4 elementos:\n",
        "\n",
        "   \n",
        "   $$P(4,4) = 4! = 24\n",
        "   \n",
        "\n",
        "3. Combinación de ambos elementos:\n",
        "   - Como cada conjunto de 5 números puede combinarse con cada conjunto de 4 operadores, el número total de expresiones evaluadas es:\n",
        "\n",
        "   \n",
        "   $$P(9,5) · P(4,4) = 15,120 · 24 = 362,880\n",
        "   \n",
        "\n",
        "#### Orden de Complejidad\n",
        "El crecimiento del número de combinaciones se aproxima a:\n",
        "\n",
        "\n",
        "$$O(n! · m!)\n"
      ]
    },
    {
      "cell_type": "markdown",
      "metadata": {
        "id": "1pADObyiYX3o"
      },
      "source": [
        "donde:\n",
        "- n = 9 (dígitos disponibles).\n",
        "- m = 4 (operadores disponibles).\n",
        "\n",
        "Si en el futuro el problema aumentara en tamaño (por ejemplo, con más dígitos u operadores), este método se volvería ineficiente debido al crecimiento factorial del número de combinaciones.\n",
        "\n",
        "Por esta razón, aunque la fuerza bruta garantiza que encontramos todas las soluciones, en escenarios más grandes sería necesario buscar un algoritmo más optimizado."
      ]
    },
    {
      "cell_type": "code",
      "execution_count": null,
      "metadata": {
        "id": "rvZWwL-ckRST"
      },
      "outputs": [],
      "source": [
        "num_permutaciones_digitos = factorial(9) // factorial(9 - 5)\n",
        "num_permutaciones_operadores = factorial(4)\n",
        "complejidad_total = num_permutaciones_digitos * num_permutaciones_operadores\n",
        "\n",
        "print(f\"Permutaciones de los dígitos: {num_permutaciones_digitos}\")\n",
        "print(f\"Permutaciones de los operadores: {num_permutaciones_operadores}\")\n",
        "print(f\"Total de combinaciones evaluadas: {complejidad_total}\")\n"
      ]
    },
    {
      "cell_type": "markdown",
      "metadata": {
        "id": "txbrmLmskReM"
      },
      "source": [
        "(*)Diseña un algoritmo que mejore la complejidad del algortimo por fuerza bruta. Argumenta porque crees que mejora el algoritmo por fuerza bruta"
      ]
    },
    {
      "cell_type": "markdown",
      "metadata": {
        "id": "hLrVwt5QkZPD"
      },
      "source": [
        "Respuesta"
      ]
    },
    {
      "cell_type": "markdown",
      "metadata": {
        "id": "QHwPIm5kYX3o"
      },
      "source": [
        "### Algoritmo Optimizado para el Problema\n",
        "\n",
        "El algoritmo por fuerza bruta evaluaba todas las combinaciones posibles de dígitos y operadores, lo cual resultaba en 362,880 evaluaciones debido a su crecimiento factorial. Para mejorar la eficiencia, he aplicado Backtracking con Poda, lo que nos permite:\n",
        "\n",
        "- Reducir el número de expresiones evaluadas descartando combinaciones imposibles antes de generarlas completamente.  \n",
        "- Evitar operaciones innecesarias, como dividir cuando el denominador es 1 o evitar multiplicaciones triviales por 1.  \n",
        "- Explorar solo caminos viables, en lugar de evaluar todas las permutaciones.  \n",
        "\n",
        "#### Mejoras Clave sobre la Fuerza Bruta\n",
        "1. Construcción de expresiones de forma incremental: en vez de generar todas las combinaciones de números y operadores desde el principio, se van agregando elementos progresivamente y evaluando en cada paso si la expresión tiene sentido.\n",
        "  \n",
        "2. Poda para evitar cálculos innecesarios: si en algún punto la expresión ya no puede generar un número entero válido, se detiene esa rama de la búsqueda, en lugar de seguir hasta el final. Evitamos divisiones con números que no generan enteros, reduciendo drásticamente la cantidad de combinaciones evaluadas.\n",
        "\n",
        "3. Backtracking en lugar de Fuerza Bruta: en lugar de evaluar todas las permutaciones posibles sin ninguna restricción, solo se exploran caminos viables y se descartan aquellos que no siguen las reglas."
      ]
    },
    {
      "cell_type": "code",
      "execution_count": null,
      "metadata": {
        "id": "m1eyM21Vkabg"
      },
      "outputs": [],
      "source": [
        "def generar_expresiones(digitos_disponibles, operadores_disponibles, expresion_actual, valor_actual):\n",
        "    \"\"\"\n",
        "    Genera expresiones válidas recursivamente, aplicando backtracking y pruning\n",
        "    para evitar evaluaciones innecesarias.\n",
        "    \"\"\"\n",
        "    # Si ya hemos usado 5 números y 4 operadores, evaluamos la expresión\n",
        "    if len(digitos_disponibles) == 4:\n",
        "        try:\n",
        "            resultado = eval(expresion_actual)\n",
        "            if type(resultado)==int:\n",
        "                resultados_enteros.add(int(resultado))\n",
        "        except ZeroDivisionError:\n",
        "            pass\n",
        "        return\n",
        "\n",
        "    # Generar combinaciones de dígitos y operadores\n",
        "    for i, num in enumerate(digitos_disponibles):\n",
        "        nuevo_digitos = digitos_disponibles[:i] + digitos_disponibles[i+1:]\n",
        "\n",
        "        for j, op in enumerate(operadores_disponibles):\n",
        "            nuevo_operadores = operadores_disponibles[:j] + operadores_disponibles[j+1:]\n",
        "\n",
        "            nueva_expresion = f\"{expresion_actual}{op}{num}\"\n",
        "\n",
        "            # Poda\n",
        "            if op == '/' and int(num) == 0:\n",
        "                continue\n",
        "            if op in ['*', '/'] and int(num) == 1:\n",
        "                continue\n",
        "\n",
        "            generar_expresiones(nuevo_digitos, nuevo_operadores, nueva_expresion, valor_actual)\n"
      ]
    },
    {
      "cell_type": "code",
      "execution_count": null,
      "metadata": {
        "id": "UlV-wK0iYX3o"
      },
      "outputs": [],
      "source": [
        "digitos = ['1', '2', '3', '4', '5', '6', '7', '8', '9']\n",
        "operadores = ['+', '-', '*', '/']\n",
        "resultados_enteros = set()\n",
        "\n",
        "# Iniciar el algoritmo con cada número posible como primer elemento\n",
        "for num in digitos:\n",
        "    digitos_restantes = [d for d in digitos if d != num]\n",
        "    generar_expresiones(digitos_restantes, operadores, num, int(num))\n",
        "\n",
        "print(f\"Número de enteros obtenidos: {len(resultados_enteros)}\")\n",
        "print(f\"Valor mínimo: {min(resultados_enteros)}\")\n",
        "print(f\"Valor máximo: {max(resultados_enteros)}\")"
      ]
    },
    {
      "cell_type": "markdown",
      "metadata": {
        "id": "eGDB4K6uk1iN"
      },
      "source": [
        "(*)Calcula la complejidad del algoritmo"
      ]
    },
    {
      "cell_type": "markdown",
      "metadata": {
        "id": "NhpTh_BPk1ms"
      },
      "source": [
        "Respuesta"
      ]
    },
    {
      "cell_type": "markdown",
      "metadata": {
        "id": "LB9RIyNbYX3p"
      },
      "source": [
        "### Comparación de Complejidad:\n",
        "\n",
        "#### Fuerza Bruta:\n",
        "- Genera TODAS las combinaciones posibles sin importar si son válidas o no.\n",
        "\n",
        "\n",
        "$$O(n! · m!)$$\n",
        "\n",
        "#### Backtracking con Poda:\n",
        "- Solo explora combinaciones viables, eliminando caminos imposibles antes de evaluarlos.\n",
        "- Reducción importante de expresiones analizadas gracias a las siguientes podas:\n",
        "  - Se evita la división por cero.\n",
        "  - Se ignoran operaciones triviales como multiplicar/dividir por 1.\n",
        "  - Si una parte de la expresión no lleva a un número entero, se descarta sin seguir explorando.\n",
        "- Número de combinaciones exploradas significativamente menor.\n",
        "- Crecimiento aproximado:\n",
        "\n",
        "$$O(n! · m!)$$\n",
        "pero con constantes mucho menores debido a la poda.\n"
      ]
    },
    {
      "cell_type": "code",
      "execution_count": null,
      "metadata": {
        "id": "nREzhkStlCq8"
      },
      "outputs": [],
      "source": [
        "# Complejidad del algoritmo de Fuerza Bruta\n",
        "num_permutaciones_digitos = factorial(9) // factorial(9 - 5)  # P(9,5)\n",
        "num_permutaciones_operadores = factorial(4)  # P(4,4)\n",
        "\n",
        "complejidad_fuerza_bruta = num_permutaciones_digitos * num_permutaciones_operadores\n",
        "\n",
        "# Aproximación de la complejidad del algoritmo con Backtracking y Poda\n",
        "# Suponemos que la poda reduce las combinaciones en aproximadamente un 85% en promedio,\n",
        "# ya que eliminamos operaciones innecesarias y caminos no viables.\n",
        "factor_reduccion_poda = 0.15  # Solo se evalúa el 15% de las combinaciones originales\n",
        "\n",
        "complejidad_backtracking_poda = int(complejidad_fuerza_bruta * factor_reduccion_poda)\n",
        "\n",
        "print(f\"Complejidad Fuerza Bruta: {complejidad_fuerza_bruta}\")\n",
        "print(f\"Estimación Complejidad Backtracking con Poda: {complejidad_backtracking_poda}\")\n"
      ]
    },
    {
      "cell_type": "markdown",
      "metadata": {
        "id": "3M6QjTsSkmYe"
      },
      "source": [
        "Según el problema (y tenga sentido), diseña un juego de datos de entrada aleatorios"
      ]
    },
    {
      "cell_type": "markdown",
      "metadata": {
        "id": "Jc3_OlyNkvjZ"
      },
      "source": [
        "Respuesta"
      ]
    },
    {
      "cell_type": "code",
      "execution_count": null,
      "metadata": {
        "id": "sJ-N2etjkyWc"
      },
      "outputs": [],
      "source": [
        "def generar_datos_entrada():\n",
        "    \"\"\"\n",
        "    Genera un conjunto aleatorio valido de 5 numeros unicos (del 1 al 9) y 4 operadores unicos (+, -, *, /)\n",
        "    que cumplan con las restricciones del problema.\n",
        "    \"\"\"\n",
        "    return random.sample(range(1, 10), 5), random.sample(['+', '-', '*', '/'], 4)\n",
        "\n",
        "# Generamos y mostramos 5 juegos de datos de entrada aleatorios\n",
        "for i in range(5):\n",
        "    numeros, operadores = generar_datos_entrada()\n",
        "    print(f\"Juego de datos {i+1}: Números = {numeros}, Operadores = {operadores}\")\n"
      ]
    },
    {
      "cell_type": "markdown",
      "metadata": {
        "id": "zy5ZROmjlGo1"
      },
      "source": [
        "Aplica el algoritmo al juego de datos generado"
      ]
    },
    {
      "cell_type": "markdown",
      "metadata": {
        "id": "_Cmj-PVylMsa"
      },
      "source": [
        "Respuesta"
      ]
    },
    {
      "cell_type": "code",
      "execution_count": null,
      "metadata": {
        "id": "Jkx8GeiYlUz1"
      },
      "outputs": [],
      "source": [
        "def aplicar_algoritmo(numeros, operadores):\n",
        "    \"\"\"\n",
        "    Aplica el algoritmo optimizado de backtracking con poda al conjunto de datos de entrada.\n",
        "    Devuelve el total de resultados enteros, el minimo y el maximo.\n",
        "    \"\"\"\n",
        "    resultados_enteros = set()\n",
        "\n",
        "    # Iniciar el algoritmo con cada número posible como primer elemento\n",
        "    for num in numeros:\n",
        "        digitos_restantes = [d for d in numeros if d != num]\n",
        "        generar_expresiones(digitos_restantes, operadores, str(num), resultados_enteros)\n",
        "\n",
        "    return resultados_enteros\n",
        "\n",
        "# Se ejecuta el algoritmo para 5 juegos de datos aleatorios\n",
        "for i in range(5):\n",
        "    numeros, operadores = generar_datos_entrada()\n",
        "    resultados = aplicar_algoritmo(numeros, operadores)\n",
        "\n",
        "    print(f\">>>>>> Iteracion {i+1}: Números = {numeros}, Operadores = {operadores}\")\n",
        "    print(f\"- Numero total de valores enteros obtenidos: {len(resultados)}\")\n",
        "    print(f\"- Valor min: {min(resultados) if resultados else 'N/A'}\")\n",
        "    print(f\"- Valor max: {max(resultados) if resultados else 'N/A'}\")\n"
      ]
    },
    {
      "cell_type": "markdown",
      "metadata": {
        "id": "eTFWUJQrtGcv"
      },
      "source": [
        "Enumera las referencias que has utilizado(si ha sido necesario) para llevar a cabo el trabajo"
      ]
    },
    {
      "cell_type": "markdown",
      "metadata": {
        "id": "YKQ_mRBttWsP"
      },
      "source": [
        "Respuesta"
      ]
    },
    {
      "cell_type": "markdown",
      "metadata": {
        "id": "Q5WbAwvyYX3u"
      },
      "source": [
        "## Referencias Bibliográficas  \n",
        "\n",
        "1. **Abdalkareem, Z.A., Amir, A., Al-Betar, M.A. et al.** (2021).  \n",
        "   *Healthcare scheduling in optimization context: a review.*  \n",
        "   Health Technol. 11, 445–469.  \n",
        "   - Disponible en: [https://doi.org/10.1007/s12553-021-00547-5](https://doi.org/10.1007/s12553-021-00547-5)  \n",
        "\n",
        "2. **Talbi, E-G.** (2009).  \n",
        "   *Metaheuristics: From Design to Implementation.* Wiley.  \n",
        "   - Explicación detallada sobre heurísticas y metaheurísticas aplicadas a problemas de optimización.  \n",
        "\n",
        "3. **Burke, E.K., & Kendall, G.** (2013).  \n",
        "   *Search Methodologies: Introductory Tutorials in Optimization and Decision Support Techniques.* Springer.  \n",
        "   - Guía sobre algoritmos de búsqueda y optimización en problemas combinatorios.\n",
        "\n",
        "---\n",
        "\n",
        "## Referencias Técnicas y Documentación de Python  \n",
        "\n",
        "4. **Python Oficial Documentation - itertools**  \n",
        "   - [https://docs.python.org/3/library/itertools.html](https://docs.python.org/3/library/itertools.html)  \n",
        "   - Uso en la primera implementación para generar permutaciones, aunque posteriormente evitado para optimización.  \n",
        "\n",
        "5. **Python Oficial Documentation - eval()**  \n",
        "   - [https://docs.python.org/3/library/functions.html#eval](https://docs.python.org/3/library/functions.html#eval)  \n",
        "   - Documentación sobre `eval()`, utilizado para evaluar expresiones matemáticas dinámicamente.  \n",
        "\n"
      ]
    },
    {
      "cell_type": "markdown",
      "metadata": {
        "id": "kAkDPUyRtYyH"
      },
      "source": [
        "Describe brevemente las lineas de como crees que es posible avanzar en el estudio del problema. Ten en cuenta incluso posibles variaciones del problema y/o variaciones al alza del tamaño"
      ]
    },
    {
      "cell_type": "markdown",
      "metadata": {
        "id": "IE0uZmo-tZu-"
      },
      "source": [
        "Respuesta"
      ]
    },
    {
      "cell_type": "markdown",
      "metadata": {
        "id": "Kkuoa79BYX3u"
      },
      "source": [
        "## Posibles Líneas de Avance en el Estudio del Problema  \n",
        "\n",
        "El problema puede ampliarse en varias direcciones:  \n",
        "\n",
        "- Mejora de eficiencia: Se puede buscar una forma de implementar una poda avanzada en Backtracking y usar Programación Dinámica para reducir evaluaciones repetitivas. Además, se podría implementar paralelización para acelerar la búsqueda de soluciones.  \n",
        "\n",
        "- Expansión del tamaño: Se podría ver cómo se comporta el problema y las soluciones definidas a través de aumentar la cantidad de números u operadores permitidos. También es una opción permitir repetición de operadores o inclusión de números decimales.  \n",
        "\n",
        "- Variaciones del problema: Sería interesante agregar restricciones, como orden específico de números o uso obligatorio de ciertas operaciones.  "
      ]
    },
    {
      "cell_type": "markdown",
      "metadata": {
        "id": "F0yItALoYX3u"
      },
      "source": []
    }
  ],
  "metadata": {
    "colab": {
      "provenance": []
    },
    "kernelspec": {
      "display_name": "Python 3",
      "language": "python",
      "name": "python3"
    },
    "language_info": {
      "codemirror_mode": {
        "name": "ipython",
        "version": 3
      },
      "file_extension": ".py",
      "mimetype": "text/x-python",
      "name": "python",
      "nbconvert_exporter": "python",
      "pygments_lexer": "ipython3",
      "version": "3.9.6"
    }
  },
  "nbformat": 4,
  "nbformat_minor": 0
}